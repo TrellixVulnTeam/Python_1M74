{
 "cells": [
  {
   "cell_type": "markdown",
   "metadata": {},
   "source": [
    "## PANDAS FOR DATA ANALYSIS\n",
    "August 27, 2020"
   ]
  },
  {
   "cell_type": "markdown",
   "metadata": {},
   "source": [
    "We're going to look at the Lahman Baseball historical dataset, which is rich in history as well as a good dataset to practice with.  \n",
    "\n",
    "You can find it here:  http://www.seanlahman.com/baseball-archive/statistics/"
   ]
  },
  {
   "cell_type": "code",
   "execution_count": null,
   "metadata": {},
   "outputs": [],
   "source": [
    "import numpy as np\n",
    "import pandas as pd\n",
    "import matplotlib.pyplot as plt\n",
    "import seaborn as sns\n",
    "\n",
    "path_to_data = \"c:/data/lahman/\"\n",
    "\n",
    "batting = pd.read_csv(path_to_data + 'Batting.csv')\n",
    "people = pd.read_csv(path_to_data + 'People.csv')\n",
    "awards = pd.read_csv(path_to_data + 'AwardsPlayers.csv')\n",
    "teams = pd.read_csv(path_to_data + 'Teams.csv')\n",
    "\n"
   ]
  },
  {
   "cell_type": "markdown",
   "metadata": {},
   "source": [
    "###  Let's get some information about our Batting data.  <br> \n",
    "\n",
    "A Pandas **dataframe** is an array surrounded by two indexes (columns and rows.) "
   ]
  },
  {
   "cell_type": "code",
   "execution_count": null,
   "metadata": {},
   "outputs": [],
   "source": [
    "batting.info() # information about dataframe"
   ]
  },
  {
   "cell_type": "code",
   "execution_count": null,
   "metadata": {},
   "outputs": [],
   "source": [
    "batting.describe() # 5-number summary of numerical values, even if they don't make sense i.e. yearID\n",
    "\n",
    "# Batting.describe(percentiles = [0.1, 0.2, 0.3, 0.4, 0.5])"
   ]
  },
  {
   "cell_type": "markdown",
   "metadata": {},
   "source": [
    "We can select numerical and categorical columns."
   ]
  },
  {
   "cell_type": "code",
   "execution_count": null,
   "metadata": {},
   "outputs": [],
   "source": [
    "all_columns = batting.columns # list of columns\n",
    "print('All columns:', all_columns)\n",
    "\n",
    "print('')\n",
    "numerical_features_all = batting.select_dtypes(include=np.number).columns\n",
    "print('Numerical columns:', numerical_features_all)\n",
    "\n",
    "print('')\n",
    "\n",
    "categorical_features_all = batting.select_dtypes(include='object').columns\n",
    "print('Categorical columns:', categorical_features_all)"
   ]
  },
  {
   "cell_type": "markdown",
   "metadata": {},
   "source": [
    "Let's remove white space around our variables that are categorical."
   ]
  },
  {
   "cell_type": "code",
   "execution_count": null,
   "metadata": {},
   "outputs": [],
   "source": [
    "for c in categorical_features_all:\n",
    "    batting[c] = batting[c].str.strip()"
   ]
  },
  {
   "cell_type": "code",
   "execution_count": null,
   "metadata": {},
   "outputs": [],
   "source": []
  },
  {
   "cell_type": "markdown",
   "metadata": {},
   "source": [
    "### Let's do some sizing.  "
   ]
  },
  {
   "cell_type": "code",
   "execution_count": null,
   "metadata": {},
   "outputs": [],
   "source": [
    "print(Batting.index) # rows\n",
    "\n",
    "print(Batting.shape) # (rows, columns)\n",
    "print(Batting.size) # rows x columns = size\n",
    "\n",
    "print(len(Batting)) # number of rows\n",
    "print(len(Batting.columns)) # number of columns\n",
    "\n",
    "\n",
    "Batting.dtypes # list data types for each column"
   ]
  },
  {
   "cell_type": "markdown",
   "metadata": {},
   "source": [
    "# Let's check for missing values.  "
   ]
  },
  {
   "cell_type": "code",
   "execution_count": null,
   "metadata": {},
   "outputs": [],
   "source": [
    "Batting.isna().any()\n",
    "# Batting.isna().sum()/len(Batting)\n",
    "\n",
    "# Batting['lgID'].isna().sum()\n",
    "\n",
    "# diabetes.BloodPressure = diabetes.BloodPressure.astype('int64')\n",
    "\n",
    "# Batting[Batting['stint'] == max(Batting['stint'])]"
   ]
  },
  {
   "cell_type": "markdown",
   "metadata": {},
   "source": [
    "## Task 1: Let's look at Attendance and see if there are any trends"
   ]
  },
  {
   "cell_type": "code",
   "execution_count": null,
   "metadata": {},
   "outputs": [],
   "source": [
    "teams.tail(10)"
   ]
  },
  {
   "cell_type": "code",
   "execution_count": null,
   "metadata": {},
   "outputs": [],
   "source": [
    "teams50 = teams[teams['yearID'] >= 1969].copy()\n",
    "\n",
    "keep_list = ['yearID', 'lgID', 'teamID', 'franchID', 'W', 'L', 'attendance']\n",
    "\n",
    "Teams50keep = Teams50[keep_list].copy()\n",
    "Teams50keep\n",
    "\n",
    "attendance_by_year = Teams50keep.groupby(['yearID','lgID'],as_index = False)['attendance'].sum()\n",
    "attendance_by_year"
   ]
  },
  {
   "cell_type": "markdown",
   "metadata": {},
   "source": [
    "Let's create a simple plot of League attendance by year"
   ]
  },
  {
   "cell_type": "code",
   "execution_count": null,
   "metadata": {},
   "outputs": [],
   "source": [
    "AL = attendance_by_year[['yearID', 'attendance']][attendance_by_year['lgID'] == \"AL\"]\n",
    "NL = attendance_by_year[['yearID', 'attendance']][attendance_by_year['lgID'] == \"NL\"]\n",
    "\n",
    "fig = plt.figure(figsize = (12,6))\n",
    "\n",
    "plt.scatter(AL['yearID'], AL['attendance'], color = 'green')\n",
    "\n",
    "plt.scatter(NL['yearID'], NL['attendance'], color = 'blue')\n",
    "# plt.scatter(NL['yearID'], NL['attendance'], 'b')\n",
    "\n",
    "plt.show()"
   ]
  },
  {
   "cell_type": "markdown",
   "metadata": {},
   "source": [
    "Let's add some stuff."
   ]
  },
  {
   "cell_type": "code",
   "execution_count": null,
   "metadata": {},
   "outputs": [],
   "source": [
    "fig = plt.figure(figsize = (12,6))\n",
    "\n",
    "plt.scatter(AL['yearID'], AL['attendance'], color = 'green', marker = 'x', label = \"AL Attendance\")\n",
    "\n",
    "plt.scatter(NL['yearID'], NL['attendance'], color = 'blue', marker = '*', label = \"NL Attendance\")\n",
    "plt.xlabel('Year')\n",
    "plt.ylabel('Attendance in M')\n",
    "plt.title(\"MLB Attendance by Year Broken down by League\")\n",
    "plt.legend()\n",
    "\n",
    "plt.show()"
   ]
  },
  {
   "cell_type": "markdown",
   "metadata": {},
   "source": [
    "Let's make a line plot."
   ]
  },
  {
   "cell_type": "code",
   "execution_count": null,
   "metadata": {},
   "outputs": [],
   "source": [
    "fig = plt.figure(figsize = (12,6))\n",
    "\n",
    "plt.plot(AL['yearID'], AL['attendance'], color = 'red', linestyle = 'dashed', linewidth = 1.0)"
   ]
  },
  {
   "cell_type": "code",
   "execution_count": null,
   "metadata": {},
   "outputs": [],
   "source": []
  },
  {
   "cell_type": "code",
   "execution_count": null,
   "metadata": {},
   "outputs": [],
   "source": []
  },
  {
   "cell_type": "markdown",
   "metadata": {},
   "source": [
    "## Task 2: What is the most number of teams that a player has played for in one year??"
   ]
  },
  {
   "cell_type": "code",
   "execution_count": null,
   "metadata": {},
   "outputs": [],
   "source": [
    "max(Batting['stint'])\n"
   ]
  },
  {
   "cell_type": "markdown",
   "metadata": {},
   "source": [
    "## Task 3: Has any player won more than 1 award in any season??"
   ]
  },
  {
   "cell_type": "code",
   "execution_count": null,
   "metadata": {},
   "outputs": [],
   "source": [
    "awards50 = awards[awards['yearID'] >= 1969].copy()\n",
    "\n"
   ]
  },
  {
   "cell_type": "markdown",
   "metadata": {},
   "source": [
    "## Task 4: For Most Valuable Players, (a) which team has won the most awards, and which position (by league and also not) has won the most\n",
    "    "
   ]
  },
  {
   "cell_type": "code",
   "execution_count": null,
   "metadata": {},
   "outputs": [],
   "source": [
    "mvps = awards50[awards50['awardID'] == 'Most Valuable Player']\n",
    "mvps"
   ]
  },
  {
   "cell_type": "code",
   "execution_count": null,
   "metadata": {},
   "outputs": [],
   "source": []
  }
 ],
 "metadata": {
  "kernelspec": {
   "display_name": "Python 3",
   "language": "python",
   "name": "python3"
  },
  "language_info": {
   "codemirror_mode": {
    "name": "ipython",
    "version": 3
   },
   "file_extension": ".py",
   "mimetype": "text/x-python",
   "name": "python",
   "nbconvert_exporter": "python",
   "pygments_lexer": "ipython3",
   "version": "3.7.7"
  }
 },
 "nbformat": 4,
 "nbformat_minor": 4
}
